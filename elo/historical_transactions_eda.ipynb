{
 "cells": [
  {
   "cell_type": "markdown",
   "metadata": {},
   "source": [
    "EDA where I explore the various columns of the historical transactions dataset. "
   ]
  },
  {
   "cell_type": "code",
   "execution_count": 35,
   "metadata": {},
   "outputs": [],
   "source": [
    "import pandas as pd\n",
    "import numpy as np\n",
    "from pathlib import Path"
   ]
  },
  {
   "cell_type": "code",
   "execution_count": 13,
   "metadata": {},
   "outputs": [],
   "source": [
    "# By default, 13.1 GB when read as a CSV file. Can it get smaller?\n",
    "# => 11.2 GB when the purchase_date date is parsed. \n",
    "# => 9.4GB when card_id is cateogrical\n",
    "# => 9.2 GB when month_lag is categorical\n",
    "# => 7.6 GB when authorized_flag is integer (instead of Y/N)\n",
    "# => 5.9GB when cateogry_3 is categorical\n",
    "# => 4.3GB when category_1 is integer (instead of Y/N)\n",
    "# => 4.1GB when installments is categorical\n",
    "# => 4GB when merchant_category_id is categorical\n",
    "# => 3.6GB when city_id and state_id are categorical\n",
    "# => 1.8GB when merchant_id is categorical\n",
    "# => 1.6GB when subsector_id is categorical"
   ]
  },
  {
   "cell_type": "code",
   "execution_count": 105,
   "metadata": {},
   "outputs": [],
   "source": [
    "DTYPES = {\"card_id\": \"category\", \"month_lag\": \"category\", \n",
    "                        \"category_3\": \"category\", \"state_id\": \"category\",\n",
    "                        \"merchant_category_id\": \"category\", \"subsector_id\": \"category\",\n",
    "                        \"installments\": \"category\",\n",
    "                        \"city_id\": \"category\", \"merchant_id\": \"category\"}"
   ]
  },
  {
   "cell_type": "code",
   "execution_count": 138,
   "metadata": {},
   "outputs": [
    {
     "name": "stdout",
     "output_type": "stream",
     "text": [
      "50.4 s ± 678 ms per loop (mean ± std. dev. of 7 runs, 1 loop each)\n"
     ]
    }
   ],
   "source": [
    "%%timeit\n",
    "df = pd.read_csv('data/historical_transactions.csv', parse_dates=['purchase_date'], \n",
    "                 dtype=DTYPES)\n",
    "df.authorized_flag = np.where(df.authorized_flag == \"Y\", 1, 0)\n",
    "df.category_1 = np.where(df.category_1 == \"Y\", 1, 0)"
   ]
  },
  {
   "cell_type": "code",
   "execution_count": 62,
   "metadata": {},
   "outputs": [
    {
     "data": {
      "text/html": [
       "<div>\n",
       "<style scoped>\n",
       "    .dataframe tbody tr th:only-of-type {\n",
       "        vertical-align: middle;\n",
       "    }\n",
       "\n",
       "    .dataframe tbody tr th {\n",
       "        vertical-align: top;\n",
       "    }\n",
       "\n",
       "    .dataframe thead th {\n",
       "        text-align: right;\n",
       "    }\n",
       "</style>\n",
       "<table border=\"1\" class=\"dataframe\">\n",
       "  <thead>\n",
       "    <tr style=\"text-align: right;\">\n",
       "      <th></th>\n",
       "      <th>14072262</th>\n",
       "      <th>1891159</th>\n",
       "      <th>4500263</th>\n",
       "      <th>24497093</th>\n",
       "      <th>24350154</th>\n",
       "    </tr>\n",
       "  </thead>\n",
       "  <tbody>\n",
       "    <tr>\n",
       "      <th>authorized_flag</th>\n",
       "      <td>1</td>\n",
       "      <td>1</td>\n",
       "      <td>1</td>\n",
       "      <td>1</td>\n",
       "      <td>1</td>\n",
       "    </tr>\n",
       "    <tr>\n",
       "      <th>card_id</th>\n",
       "      <td>C_ID_17b3b5b610</td>\n",
       "      <td>C_ID_91a95d3f21</td>\n",
       "      <td>C_ID_33bfcddb89</td>\n",
       "      <td>C_ID_64fbe9b1fa</td>\n",
       "      <td>C_ID_694fc663ff</td>\n",
       "    </tr>\n",
       "    <tr>\n",
       "      <th>city_id</th>\n",
       "      <td>69</td>\n",
       "      <td>69</td>\n",
       "      <td>170</td>\n",
       "      <td>331</td>\n",
       "      <td>11</td>\n",
       "    </tr>\n",
       "    <tr>\n",
       "      <th>category_1</th>\n",
       "      <td>N</td>\n",
       "      <td>N</td>\n",
       "      <td>N</td>\n",
       "      <td>N</td>\n",
       "      <td>N</td>\n",
       "    </tr>\n",
       "    <tr>\n",
       "      <th>installments</th>\n",
       "      <td>0</td>\n",
       "      <td>0</td>\n",
       "      <td>0</td>\n",
       "      <td>1</td>\n",
       "      <td>0</td>\n",
       "    </tr>\n",
       "    <tr>\n",
       "      <th>category_3</th>\n",
       "      <td>A</td>\n",
       "      <td>A</td>\n",
       "      <td>A</td>\n",
       "      <td>B</td>\n",
       "      <td>A</td>\n",
       "    </tr>\n",
       "    <tr>\n",
       "      <th>merchant_category_id</th>\n",
       "      <td>879</td>\n",
       "      <td>705</td>\n",
       "      <td>307</td>\n",
       "      <td>705</td>\n",
       "      <td>414</td>\n",
       "    </tr>\n",
       "    <tr>\n",
       "      <th>merchant_id</th>\n",
       "      <td>M_ID_00a6ca8a8a</td>\n",
       "      <td>M_ID_1f4773aa76</td>\n",
       "      <td>M_ID_477292fdc7</td>\n",
       "      <td>M_ID_e1a77ba40f</td>\n",
       "      <td>M_ID_d734f2611b</td>\n",
       "    </tr>\n",
       "    <tr>\n",
       "      <th>month_lag</th>\n",
       "      <td>-2</td>\n",
       "      <td>-5</td>\n",
       "      <td>-4</td>\n",
       "      <td>-3</td>\n",
       "      <td>-8</td>\n",
       "    </tr>\n",
       "    <tr>\n",
       "      <th>purchase_amount</th>\n",
       "      <td>-0.573352</td>\n",
       "      <td>-0.692392</td>\n",
       "      <td>-0.596613</td>\n",
       "      <td>-0.717486</td>\n",
       "      <td>-0.700326</td>\n",
       "    </tr>\n",
       "    <tr>\n",
       "      <th>purchase_date</th>\n",
       "      <td>2017-12-13 20:31:42</td>\n",
       "      <td>2017-09-05 18:57:29</td>\n",
       "      <td>2017-10-11 19:37:36</td>\n",
       "      <td>2017-11-19 19:46:15</td>\n",
       "      <td>2017-06-10 13:04:54</td>\n",
       "    </tr>\n",
       "    <tr>\n",
       "      <th>category_2</th>\n",
       "      <td>1</td>\n",
       "      <td>1</td>\n",
       "      <td>3</td>\n",
       "      <td>1</td>\n",
       "      <td>2</td>\n",
       "    </tr>\n",
       "    <tr>\n",
       "      <th>state_id</th>\n",
       "      <td>9</td>\n",
       "      <td>9</td>\n",
       "      <td>8</td>\n",
       "      <td>16</td>\n",
       "      <td>23</td>\n",
       "    </tr>\n",
       "    <tr>\n",
       "      <th>subsector_id</th>\n",
       "      <td>29</td>\n",
       "      <td>33</td>\n",
       "      <td>19</td>\n",
       "      <td>33</td>\n",
       "      <td>29</td>\n",
       "    </tr>\n",
       "  </tbody>\n",
       "</table>\n",
       "</div>"
      ],
      "text/plain": [
       "                                 14072262             1891159   \\\n",
       "authorized_flag                         1                    1   \n",
       "card_id                   C_ID_17b3b5b610      C_ID_91a95d3f21   \n",
       "city_id                                69                   69   \n",
       "category_1                              N                    N   \n",
       "installments                            0                    0   \n",
       "category_3                              A                    A   \n",
       "merchant_category_id                  879                  705   \n",
       "merchant_id               M_ID_00a6ca8a8a      M_ID_1f4773aa76   \n",
       "month_lag                              -2                   -5   \n",
       "purchase_amount                 -0.573352            -0.692392   \n",
       "purchase_date         2017-12-13 20:31:42  2017-09-05 18:57:29   \n",
       "category_2                              1                    1   \n",
       "state_id                                9                    9   \n",
       "subsector_id                           29                   33   \n",
       "\n",
       "                                 4500263              24497093  \\\n",
       "authorized_flag                         1                    1   \n",
       "card_id                   C_ID_33bfcddb89      C_ID_64fbe9b1fa   \n",
       "city_id                               170                  331   \n",
       "category_1                              N                    N   \n",
       "installments                            0                    1   \n",
       "category_3                              A                    B   \n",
       "merchant_category_id                  307                  705   \n",
       "merchant_id               M_ID_477292fdc7      M_ID_e1a77ba40f   \n",
       "month_lag                              -4                   -3   \n",
       "purchase_amount                 -0.596613            -0.717486   \n",
       "purchase_date         2017-10-11 19:37:36  2017-11-19 19:46:15   \n",
       "category_2                              3                    1   \n",
       "state_id                                8                   16   \n",
       "subsector_id                           19                   33   \n",
       "\n",
       "                                 24350154  \n",
       "authorized_flag                         1  \n",
       "card_id                   C_ID_694fc663ff  \n",
       "city_id                                11  \n",
       "category_1                              N  \n",
       "installments                            0  \n",
       "category_3                              A  \n",
       "merchant_category_id                  414  \n",
       "merchant_id               M_ID_d734f2611b  \n",
       "month_lag                              -8  \n",
       "purchase_amount                 -0.700326  \n",
       "purchase_date         2017-06-10 13:04:54  \n",
       "category_2                              2  \n",
       "state_id                               23  \n",
       "subsector_id                           29  "
      ]
     },
     "execution_count": 62,
     "metadata": {},
     "output_type": "execute_result"
    }
   ],
   "source": [
    "df.sample(5).T"
   ]
  },
  {
   "cell_type": "code",
   "execution_count": 139,
   "metadata": {},
   "outputs": [
    {
     "data": {
      "text/html": [
       "<div>\n",
       "<style scoped>\n",
       "    .dataframe tbody tr th:only-of-type {\n",
       "        vertical-align: middle;\n",
       "    }\n",
       "\n",
       "    .dataframe tbody tr th {\n",
       "        vertical-align: top;\n",
       "    }\n",
       "\n",
       "    .dataframe thead th {\n",
       "        text-align: right;\n",
       "    }\n",
       "</style>\n",
       "<table border=\"1\" class=\"dataframe\">\n",
       "  <thead>\n",
       "    <tr style=\"text-align: right;\">\n",
       "      <th></th>\n",
       "      <th>authorized_flag</th>\n",
       "      <th>category_1</th>\n",
       "      <th>purchase_amount</th>\n",
       "      <th>category_2</th>\n",
       "    </tr>\n",
       "  </thead>\n",
       "  <tbody>\n",
       "    <tr>\n",
       "      <th>count</th>\n",
       "      <td>2.911236e+07</td>\n",
       "      <td>2.911236e+07</td>\n",
       "      <td>2.911236e+07</td>\n",
       "      <td>2.645950e+07</td>\n",
       "    </tr>\n",
       "    <tr>\n",
       "      <th>mean</th>\n",
       "      <td>9.135450e-01</td>\n",
       "      <td>7.158571e-02</td>\n",
       "      <td>3.640090e-02</td>\n",
       "      <td>2.194578e+00</td>\n",
       "    </tr>\n",
       "    <tr>\n",
       "      <th>std</th>\n",
       "      <td>2.810348e-01</td>\n",
       "      <td>2.578007e-01</td>\n",
       "      <td>1.123522e+03</td>\n",
       "      <td>1.531896e+00</td>\n",
       "    </tr>\n",
       "    <tr>\n",
       "      <th>min</th>\n",
       "      <td>0.000000e+00</td>\n",
       "      <td>0.000000e+00</td>\n",
       "      <td>-7.469078e-01</td>\n",
       "      <td>1.000000e+00</td>\n",
       "    </tr>\n",
       "    <tr>\n",
       "      <th>25%</th>\n",
       "      <td>1.000000e+00</td>\n",
       "      <td>0.000000e+00</td>\n",
       "      <td>-7.203559e-01</td>\n",
       "      <td>1.000000e+00</td>\n",
       "    </tr>\n",
       "    <tr>\n",
       "      <th>50%</th>\n",
       "      <td>1.000000e+00</td>\n",
       "      <td>0.000000e+00</td>\n",
       "      <td>-6.883495e-01</td>\n",
       "      <td>1.000000e+00</td>\n",
       "    </tr>\n",
       "    <tr>\n",
       "      <th>75%</th>\n",
       "      <td>1.000000e+00</td>\n",
       "      <td>0.000000e+00</td>\n",
       "      <td>-6.032543e-01</td>\n",
       "      <td>3.000000e+00</td>\n",
       "    </tr>\n",
       "    <tr>\n",
       "      <th>max</th>\n",
       "      <td>1.000000e+00</td>\n",
       "      <td>1.000000e+00</td>\n",
       "      <td>6.010604e+06</td>\n",
       "      <td>5.000000e+00</td>\n",
       "    </tr>\n",
       "  </tbody>\n",
       "</table>\n",
       "</div>"
      ],
      "text/plain": [
       "       authorized_flag    category_1  purchase_amount    category_2\n",
       "count     2.911236e+07  2.911236e+07     2.911236e+07  2.645950e+07\n",
       "mean      9.135450e-01  7.158571e-02     3.640090e-02  2.194578e+00\n",
       "std       2.810348e-01  2.578007e-01     1.123522e+03  1.531896e+00\n",
       "min       0.000000e+00  0.000000e+00    -7.469078e-01  1.000000e+00\n",
       "25%       1.000000e+00  0.000000e+00    -7.203559e-01  1.000000e+00\n",
       "50%       1.000000e+00  0.000000e+00    -6.883495e-01  1.000000e+00\n",
       "75%       1.000000e+00  0.000000e+00    -6.032543e-01  3.000000e+00\n",
       "max       1.000000e+00  1.000000e+00     6.010604e+06  5.000000e+00"
      ]
     },
     "execution_count": 139,
     "metadata": {},
     "output_type": "execute_result"
    }
   ],
   "source": [
    "df.describe()"
   ]
  },
  {
   "cell_type": "code",
   "execution_count": 140,
   "metadata": {},
   "outputs": [
    {
     "data": {
      "text/plain": [
       "authorized_flag                  int64\n",
       "card_id                       category\n",
       "city_id                       category\n",
       "category_1                       int64\n",
       "installments                  category\n",
       "category_3                    category\n",
       "merchant_category_id          category\n",
       "merchant_id                   category\n",
       "month_lag                     category\n",
       "purchase_amount                float64\n",
       "purchase_date           datetime64[ns]\n",
       "category_2                     float64\n",
       "state_id                      category\n",
       "subsector_id                  category\n",
       "dtype: object"
      ]
     },
     "execution_count": 140,
     "metadata": {},
     "output_type": "execute_result"
    }
   ],
   "source": [
    "df.dtypes"
   ]
  },
  {
   "cell_type": "code",
   "execution_count": 141,
   "metadata": {},
   "outputs": [
    {
     "name": "stdout",
     "output_type": "stream",
     "text": [
      "<class 'pandas.core.frame.DataFrame'>\n",
      "RangeIndex: 29112361 entries, 0 to 29112360\n",
      "Data columns (total 14 columns):\n",
      "authorized_flag         int64\n",
      "card_id                 category\n",
      "city_id                 category\n",
      "category_1              int64\n",
      "installments            category\n",
      "category_3              category\n",
      "merchant_category_id    category\n",
      "merchant_id             category\n",
      "month_lag               category\n",
      "purchase_amount         float64\n",
      "purchase_date           datetime64[ns]\n",
      "category_2              float64\n",
      "state_id                category\n",
      "subsector_id            category\n",
      "dtypes: category(9), datetime64[ns](1), float64(2), int64(2)\n",
      "memory usage: 1.6 GB\n"
     ]
    }
   ],
   "source": [
    "df.info(memory_usage='deep')"
   ]
  },
  {
   "cell_type": "markdown",
   "metadata": {},
   "source": [
    "\n",
    "```\n",
    "Columns\tDescription\n",
    "card_id\tCard identifier\n",
    "month_lag\tmonth lag to reference date\n",
    "purchase_date\tPurchase date\n",
    "authorized_flag\tY' if approved, 'N' if denied\n",
    "category_3\tanonymized category\n",
    "installments\tnumber of installments of purchase\n",
    "category_1\tanonymized category\n",
    "merchant_category_id\tMerchant category identifier (anonymized )\n",
    "subsector_id\tMerchant category group identifier (anonymized )\n",
    "merchant_id\tMerchant identifier (anonymized)\n",
    "purchase_amount\tNormalized purchase amount\n",
    "city_id\tCity identifier (anonymized )\n",
    "state_id\tState identifier (anonymized )\n",
    "category_2\tanonymized category\n",
    "```"
   ]
  },
  {
   "cell_type": "code",
   "execution_count": 96,
   "metadata": {},
   "outputs": [],
   "source": [
    "df.to_parquet('data/historical_transactions.parquet', engine='pyarrow')"
   ]
  },
  {
   "cell_type": "code",
   "execution_count": 97,
   "metadata": {},
   "outputs": [
    {
     "name": "stdout",
     "output_type": "stream",
     "text": [
      "-rw-r--r-- 1 yassinealouini yassinealouini 704M janv. 20 20:53 data/historical_transactions.parquet\n",
      "-rw------- 1 yassinealouini yassinealouini 2,7G nov.  23 21:10 data/historical_transactions.csv\n"
     ]
    }
   ],
   "source": [
    "!ls -alth data/historical_transactions.*"
   ]
  },
  {
   "cell_type": "code",
   "execution_count": 106,
   "metadata": {},
   "outputs": [
    {
     "name": "stdout",
     "output_type": "stream",
     "text": [
      "18.4 s ± 637 ms per loop (mean ± std. dev. of 7 runs, 1 loop each)\n"
     ]
    }
   ],
   "source": [
    "%%timeit\n",
    "optimized_df = pd.read_parquet('data/historical_transactions.parquet', \n",
    "                               engine='pyarrow')\n",
    "# Since pandas.to_parquet doesn't save the categorical metadata, we need to restore it after loading.\n",
    "for col in DTYPES:\n",
    "    optimized_df[col] = optimized_df[col].astype(\"category\")"
   ]
  },
  {
   "cell_type": "code",
   "execution_count": 112,
   "metadata": {},
   "outputs": [
    {
     "name": "stdout",
     "output_type": "stream",
     "text": [
      "<class 'pandas.core.frame.DataFrame'>\n",
      "Int64Index: 29112361 entries, 0 to 29112360\n",
      "Data columns (total 14 columns):\n",
      "authorized_flag         int64\n",
      "card_id                 category\n",
      "city_id                 category\n",
      "category_1              int64\n",
      "installments            category\n",
      "category_3              category\n",
      "merchant_category_id    category\n",
      "merchant_id             category\n",
      "month_lag               category\n",
      "purchase_amount         float64\n",
      "purchase_date           datetime64[ns]\n",
      "category_2              float64\n",
      "state_id                category\n",
      "subsector_id            category\n",
      "dtypes: category(9), datetime64[ns](1), float64(2), int64(2)\n",
      "memory usage: 1.8 GB\n"
     ]
    }
   ],
   "source": [
    "optimized_df.info(memory_usage='deep')"
   ]
  },
  {
   "cell_type": "code",
   "execution_count": 99,
   "metadata": {},
   "outputs": [
    {
     "data": {
      "text/html": [
       "<div>\n",
       "<style scoped>\n",
       "    .dataframe tbody tr th:only-of-type {\n",
       "        vertical-align: middle;\n",
       "    }\n",
       "\n",
       "    .dataframe tbody tr th {\n",
       "        vertical-align: top;\n",
       "    }\n",
       "\n",
       "    .dataframe thead th {\n",
       "        text-align: right;\n",
       "    }\n",
       "</style>\n",
       "<table border=\"1\" class=\"dataframe\">\n",
       "  <thead>\n",
       "    <tr style=\"text-align: right;\">\n",
       "      <th></th>\n",
       "      <th>authorized_flag</th>\n",
       "      <th>card_id</th>\n",
       "      <th>city_id</th>\n",
       "      <th>category_1</th>\n",
       "      <th>installments</th>\n",
       "      <th>category_3</th>\n",
       "      <th>merchant_category_id</th>\n",
       "      <th>merchant_id</th>\n",
       "      <th>month_lag</th>\n",
       "      <th>purchase_amount</th>\n",
       "      <th>purchase_date</th>\n",
       "      <th>category_2</th>\n",
       "      <th>state_id</th>\n",
       "      <th>subsector_id</th>\n",
       "    </tr>\n",
       "  </thead>\n",
       "  <tbody>\n",
       "    <tr>\n",
       "      <th>2120516</th>\n",
       "      <td>1</td>\n",
       "      <td>C_ID_8935bdea8e</td>\n",
       "      <td>158</td>\n",
       "      <td>0</td>\n",
       "      <td>1</td>\n",
       "      <td>B</td>\n",
       "      <td>367</td>\n",
       "      <td>M_ID_fb6254dc78</td>\n",
       "      <td>-13</td>\n",
       "      <td>-0.711941</td>\n",
       "      <td>2017-01-30 10:36:23</td>\n",
       "      <td>1.0</td>\n",
       "      <td>15</td>\n",
       "      <td>16</td>\n",
       "    </tr>\n",
       "    <tr>\n",
       "      <th>25805451</th>\n",
       "      <td>1</td>\n",
       "      <td>C_ID_95fbe00292</td>\n",
       "      <td>25</td>\n",
       "      <td>0</td>\n",
       "      <td>0</td>\n",
       "      <td>A</td>\n",
       "      <td>309</td>\n",
       "      <td>M_ID_903424c542</td>\n",
       "      <td>-1</td>\n",
       "      <td>-0.716855</td>\n",
       "      <td>2018-01-16 11:12:58</td>\n",
       "      <td>3.0</td>\n",
       "      <td>7</td>\n",
       "      <td>21</td>\n",
       "    </tr>\n",
       "    <tr>\n",
       "      <th>23833355</th>\n",
       "      <td>1</td>\n",
       "      <td>C_ID_f069d11559</td>\n",
       "      <td>233</td>\n",
       "      <td>0</td>\n",
       "      <td>1</td>\n",
       "      <td>B</td>\n",
       "      <td>180</td>\n",
       "      <td>M_ID_aa1880adb4</td>\n",
       "      <td>-1</td>\n",
       "      <td>-0.706336</td>\n",
       "      <td>2017-09-14 19:09:00</td>\n",
       "      <td>1.0</td>\n",
       "      <td>9</td>\n",
       "      <td>20</td>\n",
       "    </tr>\n",
       "    <tr>\n",
       "      <th>11739506</th>\n",
       "      <td>1</td>\n",
       "      <td>C_ID_284d017bb9</td>\n",
       "      <td>158</td>\n",
       "      <td>0</td>\n",
       "      <td>1</td>\n",
       "      <td>B</td>\n",
       "      <td>454</td>\n",
       "      <td>M_ID_412a00d1f8</td>\n",
       "      <td>-10</td>\n",
       "      <td>-0.735638</td>\n",
       "      <td>2017-04-30 10:57:45</td>\n",
       "      <td>1.0</td>\n",
       "      <td>15</td>\n",
       "      <td>39</td>\n",
       "    </tr>\n",
       "    <tr>\n",
       "      <th>14604571</th>\n",
       "      <td>1</td>\n",
       "      <td>C_ID_23c62b0c95</td>\n",
       "      <td>279</td>\n",
       "      <td>0</td>\n",
       "      <td>1</td>\n",
       "      <td>B</td>\n",
       "      <td>307</td>\n",
       "      <td>M_ID_14cdf0bdc8</td>\n",
       "      <td>-2</td>\n",
       "      <td>-0.671775</td>\n",
       "      <td>2017-12-07 12:36:18</td>\n",
       "      <td>1.0</td>\n",
       "      <td>9</td>\n",
       "      <td>19</td>\n",
       "    </tr>\n",
       "  </tbody>\n",
       "</table>\n",
       "</div>"
      ],
      "text/plain": [
       "          authorized_flag          card_id  city_id  category_1  installments  \\\n",
       "2120516                 1  C_ID_8935bdea8e      158           0             1   \n",
       "25805451                1  C_ID_95fbe00292       25           0             0   \n",
       "23833355                1  C_ID_f069d11559      233           0             1   \n",
       "11739506                1  C_ID_284d017bb9      158           0             1   \n",
       "14604571                1  C_ID_23c62b0c95      279           0             1   \n",
       "\n",
       "         category_3  merchant_category_id      merchant_id month_lag  \\\n",
       "2120516           B                   367  M_ID_fb6254dc78       -13   \n",
       "25805451          A                   309  M_ID_903424c542        -1   \n",
       "23833355          B                   180  M_ID_aa1880adb4        -1   \n",
       "11739506          B                   454  M_ID_412a00d1f8       -10   \n",
       "14604571          B                   307  M_ID_14cdf0bdc8        -2   \n",
       "\n",
       "          purchase_amount       purchase_date  category_2  state_id  \\\n",
       "2120516         -0.711941 2017-01-30 10:36:23         1.0        15   \n",
       "25805451        -0.716855 2018-01-16 11:12:58         3.0         7   \n",
       "23833355        -0.706336 2017-09-14 19:09:00         1.0         9   \n",
       "11739506        -0.735638 2017-04-30 10:57:45         1.0        15   \n",
       "14604571        -0.671775 2017-12-07 12:36:18         1.0         9   \n",
       "\n",
       "          subsector_id  \n",
       "2120516             16  \n",
       "25805451            21  \n",
       "23833355            20  \n",
       "11739506            39  \n",
       "14604571            19  "
      ]
     },
     "execution_count": 99,
     "metadata": {},
     "output_type": "execute_result"
    }
   ],
   "source": [
    "optimized_df.sample(5).T"
   ]
  },
  {
   "cell_type": "markdown",
   "metadata": {},
   "source": [
    "# Card id"
   ]
  },
  {
   "cell_type": "code",
   "execution_count": 14,
   "metadata": {},
   "outputs": [
    {
     "data": {
      "text/plain": [
       "(325540, 29112361)"
      ]
     },
     "execution_count": 14,
     "metadata": {},
     "output_type": "execute_result"
    }
   ],
   "source": [
    "# How many? How many unique?\n",
    "\n",
    "df.card_id.nunique(), df.card_id.shape[0]"
   ]
  },
  {
   "cell_type": "code",
   "execution_count": 15,
   "metadata": {},
   "outputs": [
    {
     "data": {
      "text/plain": [
       "7516309     C_ID_2e4be53f46\n",
       "22095738    C_ID_bfdca3bd9b\n",
       "21959864    C_ID_8ea60360fd\n",
       "9508856     C_ID_a048733ac8\n",
       "21012456    C_ID_c02df647cd\n",
       "Name: card_id, dtype: object"
      ]
     },
     "execution_count": 15,
     "metadata": {},
     "output_type": "execute_result"
    }
   ],
   "source": [
    "df.sample(5).card_id"
   ]
  },
  {
   "cell_type": "markdown",
   "metadata": {},
   "source": [
    "=> Can be categorized. "
   ]
  },
  {
   "cell_type": "code",
   "execution_count": 17,
   "metadata": {},
   "outputs": [
    {
     "data": {
      "text/plain": [
       "[C_ID_4e6213e9bc, C_ID_4e6213e9bc, C_ID_4e6213e9bc, C_ID_4e6213e9bc, C_ID_4e6213e9bc, ..., C_ID_2863d2fa95, C_ID_2863d2fa95, C_ID_5c240d6e3c, C_ID_5c240d6e3c, C_ID_5c240d6e3c]\n",
       "Length: 29112361\n",
       "Categories (325540, object): [C_ID_00007093c1, C_ID_0001238066, C_ID_0001506ef0, C_ID_0001793786, ..., C_ID_ffff579d3a, C_ID_ffff756266, C_ID_ffff828181, C_ID_fffffd5772]"
      ]
     },
     "execution_count": 17,
     "metadata": {},
     "output_type": "execute_result"
    }
   ],
   "source": [
    "pd.Categorical(df.card_id)"
   ]
  },
  {
   "cell_type": "code",
   "execution_count": null,
   "metadata": {},
   "outputs": [],
   "source": [
    "# TODO: category_2 are different between the two files. Investigate..."
   ]
  },
  {
   "cell_type": "code",
   "execution_count": 128,
   "metadata": {},
   "outputs": [
    {
     "data": {
      "text/plain": [
       "dtype('float64')"
      ]
     },
     "execution_count": 128,
     "metadata": {},
     "output_type": "execute_result"
    }
   ],
   "source": [
    "optimized_df['category_2'].dtype"
   ]
  },
  {
   "cell_type": "code",
   "execution_count": 121,
   "metadata": {},
   "outputs": [
    {
     "name": "stdout",
     "output_type": "stream",
     "text": [
      "authorized_flag\n",
      "0\n",
      "card_id\n",
      "0\n",
      "city_id\n",
      "0\n",
      "category_1\n",
      "0\n",
      "installments\n",
      "0\n",
      "category_3\n",
      "0\n",
      "merchant_category_id\n",
      "0\n",
      "merchant_id\n",
      "0\n",
      "month_lag\n",
      "0\n",
      "purchase_amount\n",
      "0\n",
      "purchase_date\n",
      "0\n",
      "category_2\n",
      "2652864\n",
      "state_id\n",
      "0\n",
      "subsector_id\n",
      "0\n"
     ]
    }
   ],
   "source": [
    "for col in df.columns:\n",
    "    print(col)\n",
    "    print((optimized_df[col] != df[col]).sum())"
   ]
  },
  {
   "cell_type": "markdown",
   "metadata": {},
   "source": [
    "# Month lag"
   ]
  },
  {
   "cell_type": "code",
   "execution_count": 23,
   "metadata": {},
   "outputs": [
    {
     "data": {
      "text/plain": [
       "14"
      ]
     },
     "execution_count": 23,
     "metadata": {},
     "output_type": "execute_result"
    }
   ],
   "source": [
    "df.month_lag.nunique()"
   ]
  },
  {
   "cell_type": "code",
   "execution_count": 24,
   "metadata": {},
   "outputs": [
    {
     "data": {
      "text/plain": [
       "683444      -9\n",
       "22399539    -5\n",
       "11438601   -11\n",
       "8390517     -4\n",
       "29025507     0\n",
       "Name: month_lag, dtype: int64"
      ]
     },
     "execution_count": 24,
     "metadata": {},
     "output_type": "execute_result"
    }
   ],
   "source": [
    "df.sample(5).month_lag"
   ]
  },
  {
   "cell_type": "markdown",
   "metadata": {},
   "source": [
    "=> Can be categorized"
   ]
  },
  {
   "cell_type": "code",
   "execution_count": 25,
   "metadata": {},
   "outputs": [
    {
     "data": {
      "text/plain": [
       "[-8, -7, -6, -5, -11, ..., -1, 0, 0, -1, -2]\n",
       "Length: 29112361\n",
       "Categories (14, int64): [-13, -12, -11, -10, ..., -3, -2, -1, 0]"
      ]
     },
     "execution_count": 25,
     "metadata": {},
     "output_type": "execute_result"
    }
   ],
   "source": [
    "pd.Categorical(df.month_lag)"
   ]
  },
  {
   "cell_type": "markdown",
   "metadata": {},
   "source": [
    "# Purchase date"
   ]
  },
  {
   "cell_type": "code",
   "execution_count": 16,
   "metadata": {},
   "outputs": [
    {
     "data": {
      "text/plain": [
       "16395300"
      ]
     },
     "execution_count": 16,
     "metadata": {},
     "output_type": "execute_result"
    }
   ],
   "source": [
    "df.purchase_date.nunique()"
   ]
  },
  {
   "cell_type": "code",
   "execution_count": 15,
   "metadata": {},
   "outputs": [
    {
     "data": {
      "text/plain": [
       "5401121     2017-12-16 08:54:53\n",
       "24600244    2017-12-22 13:13:17\n",
       "6204403     2018-02-09 01:41:24\n",
       "19366142    2018-01-07 12:52:41\n",
       "15398050    2018-01-11 16:32:31\n",
       "Name: purchase_date, dtype: object"
      ]
     },
     "execution_count": 15,
     "metadata": {},
     "output_type": "execute_result"
    }
   ],
   "source": [
    "df.sample(5).purchase_date"
   ]
  },
  {
   "cell_type": "markdown",
   "metadata": {},
   "source": [
    "=> Might need to round this timestamp information and extract some calendar features from it?"
   ]
  },
  {
   "cell_type": "markdown",
   "metadata": {},
   "source": [
    "# Authorized flag"
   ]
  },
  {
   "cell_type": "markdown",
   "metadata": {},
   "source": [
    "Whether or not the purchase has been approved."
   ]
  },
  {
   "cell_type": "code",
   "execution_count": 49,
   "metadata": {},
   "outputs": [],
   "source": [
    "df.authorized_flag = df.authorized_flag.astype(int)"
   ]
  },
  {
   "cell_type": "code",
   "execution_count": 33,
   "metadata": {},
   "outputs": [
    {
     "data": {
      "text/plain": [
       "array([1, 1, 1, ..., 1, 1, 1])"
      ]
     },
     "execution_count": 33,
     "metadata": {},
     "output_type": "execute_result"
    }
   ],
   "source": [
    "pd.np.where(df.authorized_flag == \"Y\", 1, 0)"
   ]
  },
  {
   "cell_type": "code",
   "execution_count": 27,
   "metadata": {},
   "outputs": [
    {
     "data": {
      "text/plain": [
       "<matplotlib.axes._subplots.AxesSubplot at 0x7fcf610c9780>"
      ]
     },
     "execution_count": 27,
     "metadata": {},
     "output_type": "execute_result"
    },
    {
     "data": {
      "image/png": "[encoded data removed]",
      "text/plain": [
       "<Figure size 432x288 with 1 Axes>"
      ]
     },
     "metadata": {},
     "output_type": "display_data"
    }
   ],
   "source": [
    "df.authorized_flag.value_counts(normalize=True).mul(100).plot(kind='bar')"
   ]
  },
  {
   "cell_type": "markdown",
   "metadata": {},
   "source": [
    "# Categories (1, 2, and 3)"
   ]
  },
  {
   "cell_type": "markdown",
   "metadata": {},
   "source": [
    "Anonymized categporical features"
   ]
  },
  {
   "cell_type": "code",
   "execution_count": 29,
   "metadata": {},
   "outputs": [
    {
     "data": {
      "text/plain": [
       "(array(['N', 'Y'], dtype=object),\n",
       " array([  1.,  nan,   3.,   5.,   2.,   4.]),\n",
       " array(['A', 'B', 'C', nan], dtype=object))"
      ]
     },
     "execution_count": 29,
     "metadata": {},
     "output_type": "execute_result"
    }
   ],
   "source": [
    "df.category_1.unique(), df.category_2.unique(), df.category_3.unique()"
   ]
  },
  {
   "cell_type": "code",
   "execution_count": 31,
   "metadata": {},
   "outputs": [
    {
     "data": {
      "text/plain": [
       "<matplotlib.axes._subplots.AxesSubplot at 0x7fcf610f1cf8>"
      ]
     },
     "execution_count": 31,
     "metadata": {},
     "output_type": "execute_result"
    },
    {
     "data": {
      "image/png": "[encoded data removed]",
      "text/plain": [
       "<Figure size 432x288 with 1 Axes>"
      ]
     },
     "metadata": {},
     "output_type": "display_data"
    }
   ],
   "source": [
    "df.category_1.value_counts(normalize=True, dropna=False).mul(100).plot(kind='bar')"
   ]
  },
  {
   "cell_type": "code",
   "execution_count": 32,
   "metadata": {},
   "outputs": [
    {
     "data": {
      "text/plain": [
       "<matplotlib.axes._subplots.AxesSubplot at 0x7fcf6106f128>"
      ]
     },
     "execution_count": 32,
     "metadata": {},
     "output_type": "execute_result"
    },
    {
     "data": {
      "image/png": "[encoded data removed]",
      "text/plain": [
       "<Figure size 432x288 with 1 Axes>"
      ]
     },
     "metadata": {},
     "output_type": "display_data"
    }
   ],
   "source": [
    "df.category_2.value_counts(normalize=True, dropna=False).mul(100).plot(kind='bar')"
   ]
  },
  {
   "cell_type": "code",
   "execution_count": 33,
   "metadata": {},
   "outputs": [
    {
     "data": {
      "text/plain": [
       "<matplotlib.axes._subplots.AxesSubplot at 0x7fcf61010438>"
      ]
     },
     "execution_count": 33,
     "metadata": {},
     "output_type": "execute_result"
    },
    {
     "data": {
      "image/png": "[encoded data removed]",
      "text/plain": [
       "<Figure size 432x288 with 1 Axes>"
      ]
     },
     "metadata": {},
     "output_type": "display_data"
    }
   ],
   "source": [
    "df.category_3.value_counts(normalize=True, dropna=False).mul(100).plot(kind='bar')"
   ]
  },
  {
   "cell_type": "markdown",
   "metadata": {},
   "source": [
    "=> These categories should be transformed into numerical values so that they can be used by the ML model."
   ]
  },
  {
   "cell_type": "markdown",
   "metadata": {},
   "source": [
    "# Installments"
   ]
  },
  {
   "cell_type": "code",
   "execution_count": 68,
   "metadata": {},
   "outputs": [
    {
     "data": {
      "text/plain": [
       "15"
      ]
     },
     "execution_count": 68,
     "metadata": {},
     "output_type": "execute_result"
    }
   ],
   "source": [
    "df.installments.nunique()"
   ]
  },
  {
   "cell_type": "code",
   "execution_count": 69,
   "metadata": {},
   "outputs": [
    {
     "data": {
      "text/plain": [
       "<matplotlib.axes._subplots.AxesSubplot at 0x7fd68593cc50>"
      ]
     },
     "execution_count": 69,
     "metadata": {},
     "output_type": "execute_result"
    }
   ],
   "source": [
    "df.installments.value_counts(normalize=True, dropna=False).mul(100).plot(kind='bar')"
   ]
  },
  {
   "cell_type": "code",
   "execution_count": 71,
   "metadata": {},
   "outputs": [],
   "source": [
    "df.installments = df.installments.astype('category')"
   ]
  },
  {
   "cell_type": "markdown",
   "metadata": {},
   "source": [
    "Is 999 a \"placeholder\" for missing data? Or is it for any number bigger than 11?"
   ]
  },
  {
   "cell_type": "markdown",
   "metadata": {},
   "source": [
    "# Merchant columns"
   ]
  },
  {
   "cell_type": "markdown",
   "metadata": {},
   "source": [
    "## Category id "
   ]
  },
  {
   "cell_type": "code",
   "execution_count": 74,
   "metadata": {},
   "outputs": [
    {
     "data": {
      "text/plain": [
       "14865098    879\n",
       "5080919     367\n",
       "21528015    422\n",
       "7574535     705\n",
       "13830590    683\n",
       "Name: merchant_category_id, dtype: int64"
      ]
     },
     "execution_count": 74,
     "metadata": {},
     "output_type": "execute_result"
    }
   ],
   "source": [
    "df.sample(5).merchant_category_id"
   ]
  },
  {
   "cell_type": "code",
   "execution_count": 75,
   "metadata": {},
   "outputs": [
    {
     "data": {
      "text/plain": [
       "327"
      ]
     },
     "execution_count": 75,
     "metadata": {},
     "output_type": "execute_result"
    }
   ],
   "source": [
    "df.merchant_category_id.nunique()"
   ]
  },
  {
   "cell_type": "code",
   "execution_count": 76,
   "metadata": {},
   "outputs": [],
   "source": [
    "df.merchant_category_id = df.merchant_category_id.astype('category')"
   ]
  },
  {
   "cell_type": "markdown",
   "metadata": {},
   "source": [
    "## Id "
   ]
  },
  {
   "cell_type": "code",
   "execution_count": 43,
   "metadata": {},
   "outputs": [
    {
     "data": {
      "text/plain": [
       "326311"
      ]
     },
     "execution_count": 43,
     "metadata": {},
     "output_type": "execute_result"
    }
   ],
   "source": [
    "df.merchant_id.nunique()"
   ]
  },
  {
   "cell_type": "code",
   "execution_count": 86,
   "metadata": {},
   "outputs": [],
   "source": [
    "df.merchant_id = df.merchant_id.astype('category')"
   ]
  },
  {
   "cell_type": "code",
   "execution_count": null,
   "metadata": {},
   "outputs": [],
   "source": [
    "## Subsector id"
   ]
  },
  {
   "cell_type": "code",
   "execution_count": 44,
   "metadata": {},
   "outputs": [
    {
     "data": {
      "text/plain": [
       "41"
      ]
     },
     "execution_count": 44,
     "metadata": {},
     "output_type": "execute_result"
    }
   ],
   "source": [
    "df.subsector_id.nunique()"
   ]
  },
  {
   "cell_type": "code",
   "execution_count": 90,
   "metadata": {},
   "outputs": [],
   "source": [
    "df.subsector_id = df.subsector_id.astype('category')"
   ]
  },
  {
   "cell_type": "markdown",
   "metadata": {},
   "source": [
    "# City columns"
   ]
  },
  {
   "cell_type": "markdown",
   "metadata": {},
   "source": [
    "## Id"
   ]
  },
  {
   "cell_type": "code",
   "execution_count": 80,
   "metadata": {},
   "outputs": [
    {
     "data": {
      "text/plain": [
       "308"
      ]
     },
     "execution_count": 80,
     "metadata": {},
     "output_type": "execute_result"
    }
   ],
   "source": [
    "df.city_id.nunique()"
   ]
  },
  {
   "cell_type": "code",
   "execution_count": 82,
   "metadata": {},
   "outputs": [],
   "source": [
    "df.city_id = df.city_id.astype('category')"
   ]
  },
  {
   "cell_type": "markdown",
   "metadata": {},
   "source": [
    "## State Id"
   ]
  },
  {
   "cell_type": "code",
   "execution_count": 81,
   "metadata": {},
   "outputs": [
    {
     "data": {
      "text/plain": [
       "25"
      ]
     },
     "execution_count": 81,
     "metadata": {},
     "output_type": "execute_result"
    }
   ],
   "source": [
    "df.state_id.nunique()"
   ]
  },
  {
   "cell_type": "code",
   "execution_count": 83,
   "metadata": {},
   "outputs": [],
   "source": [
    "df.state_id = df.state_id.astype('category')"
   ]
  },
  {
   "cell_type": "markdown",
   "metadata": {},
   "source": [
    "## Purchase amount"
   ]
  },
  {
   "cell_type": "code",
   "execution_count": 49,
   "metadata": {},
   "outputs": [
    {
     "data": {
      "text/plain": [
       "<matplotlib.axes._subplots.AxesSubplot at 0x7fd001efc748>"
      ]
     },
     "execution_count": 49,
     "metadata": {},
     "output_type": "execute_result"
    },
    {
     "data": {
      "image/png": "[encoded data removed]",
      "text/plain": [
       "<Figure size 432x288 with 1 Axes>"
      ]
     },
     "metadata": {},
     "output_type": "display_data"
    }
   ],
   "source": [
    "# TODO: Find a better plot for this function\n",
    "df.purchase_amount.plot()"
   ]
  }
 ],
 "metadata": {
  "kernelspec": {
   "display_name": "deep-learning",
   "language": "python",
   "name": "deep-learning"
  },
  "language_info": {
   "codemirror_mode": {
    "name": "ipython",
    "version": 3
   },
   "file_extension": ".py",
   "mimetype": "text/x-python",
   "name": "python",
   "nbconvert_exporter": "python",
   "pygments_lexer": "ipython3",
   "version": "3.6.4"
  }
 },
 "nbformat": 4,
 "nbformat_minor": 2
}
