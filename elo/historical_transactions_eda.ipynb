{
 "cells": [
  {
   "cell_type": "markdown",
   "metadata": {},
   "source": [
    "EDA where I explore the various columns of the historical transactions dataset. "
   ]
  },
  {
   "cell_type": "code",
   "execution_count": 1,
   "metadata": {},
   "outputs": [],
   "source": [
    "import pandas as pd\n",
    "from pathlib import Path"
   ]
  },
  {
   "cell_type": "code",
   "execution_count": 2,
   "metadata": {},
   "outputs": [],
   "source": [
    "df = pd.read_csv('data/historical_transactions.csv')"
   ]
  },
  {
   "cell_type": "code",
   "execution_count": 3,
   "metadata": {},
   "outputs": [
    {
     "data": {
      "text/html": [
       "<div>\n",
       "<style scoped>\n",
       "    .dataframe tbody tr th:only-of-type {\n",
       "        vertical-align: middle;\n",
       "    }\n",
       "\n",
       "    .dataframe tbody tr th {\n",
       "        vertical-align: top;\n",
       "    }\n",
       "\n",
       "    .dataframe thead th {\n",
       "        text-align: right;\n",
       "    }\n",
       "</style>\n",
       "<table border=\"1\" class=\"dataframe\">\n",
       "  <thead>\n",
       "    <tr style=\"text-align: right;\">\n",
       "      <th></th>\n",
       "      <th>16940052</th>\n",
       "      <th>4406905</th>\n",
       "      <th>20507598</th>\n",
       "      <th>28287973</th>\n",
       "      <th>8389067</th>\n",
       "    </tr>\n",
       "  </thead>\n",
       "  <tbody>\n",
       "    <tr>\n",
       "      <th>authorized_flag</th>\n",
       "      <td>Y</td>\n",
       "      <td>Y</td>\n",
       "      <td>Y</td>\n",
       "      <td>Y</td>\n",
       "      <td>Y</td>\n",
       "    </tr>\n",
       "    <tr>\n",
       "      <th>card_id</th>\n",
       "      <td>C_ID_e24775dfaa</td>\n",
       "      <td>C_ID_0f3eb56b11</td>\n",
       "      <td>C_ID_966407c88e</td>\n",
       "      <td>C_ID_f432783444</td>\n",
       "      <td>C_ID_99e43e1a7d</td>\n",
       "    </tr>\n",
       "    <tr>\n",
       "      <th>city_id</th>\n",
       "      <td>3</td>\n",
       "      <td>246</td>\n",
       "      <td>314</td>\n",
       "      <td>62</td>\n",
       "      <td>333</td>\n",
       "    </tr>\n",
       "    <tr>\n",
       "      <th>category_1</th>\n",
       "      <td>N</td>\n",
       "      <td>N</td>\n",
       "      <td>N</td>\n",
       "      <td>N</td>\n",
       "      <td>N</td>\n",
       "    </tr>\n",
       "    <tr>\n",
       "      <th>installments</th>\n",
       "      <td>1</td>\n",
       "      <td>0</td>\n",
       "      <td>0</td>\n",
       "      <td>0</td>\n",
       "      <td>0</td>\n",
       "    </tr>\n",
       "    <tr>\n",
       "      <th>category_3</th>\n",
       "      <td>B</td>\n",
       "      <td>A</td>\n",
       "      <td>A</td>\n",
       "      <td>A</td>\n",
       "      <td>A</td>\n",
       "    </tr>\n",
       "    <tr>\n",
       "      <th>merchant_category_id</th>\n",
       "      <td>705</td>\n",
       "      <td>222</td>\n",
       "      <td>367</td>\n",
       "      <td>80</td>\n",
       "      <td>705</td>\n",
       "    </tr>\n",
       "    <tr>\n",
       "      <th>merchant_id</th>\n",
       "      <td>M_ID_f8369b8d0f</td>\n",
       "      <td>M_ID_724a9fadfd</td>\n",
       "      <td>M_ID_235e546dcc</td>\n",
       "      <td>NaN</td>\n",
       "      <td>M_ID_5a4ed702d4</td>\n",
       "    </tr>\n",
       "    <tr>\n",
       "      <th>month_lag</th>\n",
       "      <td>-6</td>\n",
       "      <td>-12</td>\n",
       "      <td>-3</td>\n",
       "      <td>0</td>\n",
       "      <td>-11</td>\n",
       "    </tr>\n",
       "    <tr>\n",
       "      <th>purchase_amount</th>\n",
       "      <td>-0.656884</td>\n",
       "      <td>-0.721363</td>\n",
       "      <td>-0.633653</td>\n",
       "      <td>-0.731911</td>\n",
       "      <td>-0.724383</td>\n",
       "    </tr>\n",
       "    <tr>\n",
       "      <th>purchase_date</th>\n",
       "      <td>2017-08-12 08:52:41</td>\n",
       "      <td>2017-02-15 09:50:42</td>\n",
       "      <td>2017-11-25 13:16:07</td>\n",
       "      <td>2018-02-03 17:25:46</td>\n",
       "      <td>2017-03-08 11:10:53</td>\n",
       "    </tr>\n",
       "    <tr>\n",
       "      <th>category_2</th>\n",
       "      <td>1</td>\n",
       "      <td>3</td>\n",
       "      <td>1</td>\n",
       "      <td>1</td>\n",
       "      <td>5</td>\n",
       "    </tr>\n",
       "    <tr>\n",
       "      <th>state_id</th>\n",
       "      <td>16</td>\n",
       "      <td>1</td>\n",
       "      <td>9</td>\n",
       "      <td>9</td>\n",
       "      <td>21</td>\n",
       "    </tr>\n",
       "    <tr>\n",
       "      <th>subsector_id</th>\n",
       "      <td>33</td>\n",
       "      <td>21</td>\n",
       "      <td>16</td>\n",
       "      <td>37</td>\n",
       "      <td>33</td>\n",
       "    </tr>\n",
       "  </tbody>\n",
       "</table>\n",
       "</div>"
      ],
      "text/plain": [
       "                                 16940052             4406905   \\\n",
       "authorized_flag                         Y                    Y   \n",
       "card_id                   C_ID_e24775dfaa      C_ID_0f3eb56b11   \n",
       "city_id                                 3                  246   \n",
       "category_1                              N                    N   \n",
       "installments                            1                    0   \n",
       "category_3                              B                    A   \n",
       "merchant_category_id                  705                  222   \n",
       "merchant_id               M_ID_f8369b8d0f      M_ID_724a9fadfd   \n",
       "month_lag                              -6                  -12   \n",
       "purchase_amount                 -0.656884            -0.721363   \n",
       "purchase_date         2017-08-12 08:52:41  2017-02-15 09:50:42   \n",
       "category_2                              1                    3   \n",
       "state_id                               16                    1   \n",
       "subsector_id                           33                   21   \n",
       "\n",
       "                                 20507598             28287973  \\\n",
       "authorized_flag                         Y                    Y   \n",
       "card_id                   C_ID_966407c88e      C_ID_f432783444   \n",
       "city_id                               314                   62   \n",
       "category_1                              N                    N   \n",
       "installments                            0                    0   \n",
       "category_3                              A                    A   \n",
       "merchant_category_id                  367                   80   \n",
       "merchant_id               M_ID_235e546dcc                  NaN   \n",
       "month_lag                              -3                    0   \n",
       "purchase_amount                 -0.633653            -0.731911   \n",
       "purchase_date         2017-11-25 13:16:07  2018-02-03 17:25:46   \n",
       "category_2                              1                    1   \n",
       "state_id                                9                    9   \n",
       "subsector_id                           16                   37   \n",
       "\n",
       "                                 8389067   \n",
       "authorized_flag                         Y  \n",
       "card_id                   C_ID_99e43e1a7d  \n",
       "city_id                               333  \n",
       "category_1                              N  \n",
       "installments                            0  \n",
       "category_3                              A  \n",
       "merchant_category_id                  705  \n",
       "merchant_id               M_ID_5a4ed702d4  \n",
       "month_lag                             -11  \n",
       "purchase_amount                 -0.724383  \n",
       "purchase_date         2017-03-08 11:10:53  \n",
       "category_2                              5  \n",
       "state_id                               21  \n",
       "subsector_id                           33  "
      ]
     },
     "execution_count": 3,
     "metadata": {},
     "output_type": "execute_result"
    }
   ],
   "source": [
    "df.sample(5).T"
   ]
  },
  {
   "cell_type": "code",
   "execution_count": 11,
   "metadata": {},
   "outputs": [
    {
     "name": "stdout",
     "output_type": "stream",
     "text": [
      "<class 'pandas.core.frame.DataFrame'>\n",
      "RangeIndex: 29112361 entries, 0 to 29112360\n",
      "Data columns (total 14 columns):\n",
      "authorized_flag         object\n",
      "card_id                 object\n",
      "city_id                 int64\n",
      "category_1              object\n",
      "installments            int64\n",
      "category_3              object\n",
      "merchant_category_id    int64\n",
      "merchant_id             object\n",
      "month_lag               int64\n",
      "purchase_amount         float64\n",
      "purchase_date           object\n",
      "category_2              float64\n",
      "state_id                int64\n",
      "subsector_id            int64\n",
      "dtypes: float64(2), int64(6), object(6)\n",
      "memory usage: 13.1 GB\n"
     ]
    }
   ],
   "source": [
    "df.info(memory_usage='deep')"
   ]
  },
  {
   "cell_type": "markdown",
   "metadata": {},
   "source": [
    "\n",
    "```\n",
    "Columns\tDescription\n",
    "card_id\tCard identifier\n",
    "month_lag\tmonth lag to reference date\n",
    "purchase_date\tPurchase date\n",
    "authorized_flag\tY' if approved, 'N' if denied\n",
    "category_3\tanonymized category\n",
    "installments\tnumber of installments of purchase\n",
    "category_1\tanonymized category\n",
    "merchant_category_id\tMerchant category identifier (anonymized )\n",
    "subsector_id\tMerchant category group identifier (anonymized )\n",
    "merchant_id\tMerchant identifier (anonymized)\n",
    "purchase_amount\tNormalized purchase amount\n",
    "city_id\tCity identifier (anonymized )\n",
    "state_id\tState identifier (anonymized )\n",
    "category_2\tanonymized category\n",
    "```"
   ]
  },
  {
   "cell_type": "markdown",
   "metadata": {},
   "source": [
    "# Card id"
   ]
  },
  {
   "cell_type": "code",
   "execution_count": 7,
   "metadata": {},
   "outputs": [
    {
     "data": {
      "text/plain": [
       "(325540, 29112361)"
      ]
     },
     "execution_count": 7,
     "metadata": {},
     "output_type": "execute_result"
    }
   ],
   "source": [
    "# How many? How many unique?\n",
    "\n",
    "df.card_id.nunique(), df.card_id.shape[0]"
   ]
  },
  {
   "cell_type": "code",
   "execution_count": 8,
   "metadata": {},
   "outputs": [
    {
     "data": {
      "text/plain": [
       "19936530    C_ID_213b5bbc47\n",
       "28561228    C_ID_f437f01c3d\n",
       "1881755     C_ID_10e20aa921\n",
       "24086339    C_ID_d942ee99fe\n",
       "12470302    C_ID_9f228e92ae\n",
       "Name: card_id, dtype: object"
      ]
     },
     "execution_count": 8,
     "metadata": {},
     "output_type": "execute_result"
    }
   ],
   "source": [
    "df.sample(5).card_id"
   ]
  },
  {
   "cell_type": "markdown",
   "metadata": {},
   "source": [
    "# Month lag"
   ]
  },
  {
   "cell_type": "code",
   "execution_count": 13,
   "metadata": {},
   "outputs": [
    {
     "data": {
      "text/plain": [
       "14"
      ]
     },
     "execution_count": 13,
     "metadata": {},
     "output_type": "execute_result"
    }
   ],
   "source": [
    "df.month_lag.nunique()"
   ]
  },
  {
   "cell_type": "code",
   "execution_count": 14,
   "metadata": {},
   "outputs": [
    {
     "data": {
      "text/plain": [
       "27512274   -1\n",
       "14953806   -4\n",
       "1635433    -7\n",
       "13137806   -8\n",
       "17492496   -2\n",
       "Name: month_lag, dtype: int64"
      ]
     },
     "execution_count": 14,
     "metadata": {},
     "output_type": "execute_result"
    }
   ],
   "source": [
    "df.sample(5).month_lag"
   ]
  },
  {
   "cell_type": "markdown",
   "metadata": {},
   "source": [
    "# Purchase date"
   ]
  },
  {
   "cell_type": "code",
   "execution_count": 16,
   "metadata": {},
   "outputs": [
    {
     "data": {
      "text/plain": [
       "16395300"
      ]
     },
     "execution_count": 16,
     "metadata": {},
     "output_type": "execute_result"
    }
   ],
   "source": [
    "df.purchase_date.nunique()"
   ]
  },
  {
   "cell_type": "code",
   "execution_count": 15,
   "metadata": {},
   "outputs": [
    {
     "data": {
      "text/plain": [
       "5401121     2017-12-16 08:54:53\n",
       "24600244    2017-12-22 13:13:17\n",
       "6204403     2018-02-09 01:41:24\n",
       "19366142    2018-01-07 12:52:41\n",
       "15398050    2018-01-11 16:32:31\n",
       "Name: purchase_date, dtype: object"
      ]
     },
     "execution_count": 15,
     "metadata": {},
     "output_type": "execute_result"
    }
   ],
   "source": [
    "df.sample(5).purchase_date"
   ]
  },
  {
   "cell_type": "markdown",
   "metadata": {},
   "source": [
    "=> Might need to round this timestamp information and extract some calendar features from it?"
   ]
  },
  {
   "cell_type": "markdown",
   "metadata": {},
   "source": [
    "# Authorized flag"
   ]
  },
  {
   "cell_type": "markdown",
   "metadata": {},
   "source": [
    "Whether or not the purchase has been approved."
   ]
  },
  {
   "cell_type": "code",
   "execution_count": 18,
   "metadata": {},
   "outputs": [
    {
     "data": {
      "text/plain": [
       "array(['Y', 'N'], dtype=object)"
      ]
     },
     "execution_count": 18,
     "metadata": {},
     "output_type": "execute_result"
    }
   ],
   "source": [
    "df.authorized_flag.unique()"
   ]
  },
  {
   "cell_type": "code",
   "execution_count": 27,
   "metadata": {},
   "outputs": [
    {
     "data": {
      "text/plain": [
       "<matplotlib.axes._subplots.AxesSubplot at 0x7fcf610c9780>"
      ]
     },
     "execution_count": 27,
     "metadata": {},
     "output_type": "execute_result"
    },
    {
     "data": {
      "image/png": "[encoded data removed]",
      "text/plain": [
       "<Figure size 432x288 with 1 Axes>"
      ]
     },
     "metadata": {},
     "output_type": "display_data"
    }
   ],
   "source": [
    "df.authorized_flag.value_counts(normalize=True).mul(100).plot(kind='bar')"
   ]
  },
  {
   "cell_type": "markdown",
   "metadata": {},
   "source": [
    "# Category_3"
   ]
  },
  {
   "cell_type": "markdown",
   "metadata": {},
   "source": [
    "An anonymized categporical feature"
   ]
  },
  {
   "cell_type": "code",
   "execution_count": 24,
   "metadata": {},
   "outputs": [
    {
     "data": {
      "text/plain": [
       "array(['A', 'B', 'C', nan], dtype=object)"
      ]
     },
     "execution_count": 24,
     "metadata": {},
     "output_type": "execute_result"
    }
   ],
   "source": [
    "df.category_3.unique()"
   ]
  },
  {
   "cell_type": "code",
   "execution_count": 28,
   "metadata": {},
   "outputs": [
    {
     "data": {
      "text/plain": [
       "<matplotlib.axes._subplots.AxesSubplot at 0x7fcf610886a0>"
      ]
     },
     "execution_count": 28,
     "metadata": {},
     "output_type": "execute_result"
    },
    {
     "data": {
      "image/png": "[encoded data removed]",
      "text/plain": [
       "<Figure size 432x288 with 1 Axes>"
      ]
     },
     "metadata": {},
     "output_type": "display_data"
    }
   ],
   "source": [
    "df.category_3.value_counts(normalize=True, dropna=False).mul(100).plot(kind='bar')"
   ]
  }
 ],
 "metadata": {
  "kernelspec": {
   "display_name": "deep-learning",
   "language": "python",
   "name": "deep-learning"
  },
  "language_info": {
   "codemirror_mode": {
    "name": "ipython",
    "version": 3
   },
   "file_extension": ".py",
   "mimetype": "text/x-python",
   "name": "python",
   "nbconvert_exporter": "python",
   "pygments_lexer": "ipython3",
   "version": "3.6.4"
  }
 },
 "nbformat": 4,
 "nbformat_minor": 2
}
